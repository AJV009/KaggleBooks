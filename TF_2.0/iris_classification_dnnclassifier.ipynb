{
 "cells": [
  {
   "cell_type": "markdown",
   "metadata": {},
   "source": [
    "<h1> TF 2.0 - DNNClassifier - Iris Dataset! </h1>"
   ]
  },
  {
   "cell_type": "code",
   "execution_count": 1,
   "metadata": {},
   "outputs": [],
   "source": [
    "#imports ALL with TF 2.0\n",
    "import tensorflow as tf\n",
    "import pandas as pd"
   ]
  },
  {
   "cell_type": "code",
   "execution_count": 2,
   "metadata": {},
   "outputs": [],
   "source": [
    "# a keras utility for data in\n",
    "train_path = tf.keras.utils.get_file('iris_training.csv','https://storage.googleapis.com/download.tensorflow.org/data/iris_training.csv')\n",
    "test_path = tf.keras.utils.get_file('iris_test.csv','https://storage.googleapis.com/download.tensorflow.org/data/iris_test.csv')"
   ]
  },
  {
   "cell_type": "code",
   "execution_count": 3,
   "metadata": {},
   "outputs": [],
   "source": [
    "col_names = ['SepalLength','SepalWidth','PetalLength','PetalWidth','Species']\n",
    "species = ['Setosa','Versicolor','Virginica']"
   ]
  },
  {
   "cell_type": "code",
   "execution_count": 4,
   "metadata": {},
   "outputs": [],
   "source": [
    "train = pd.read_csv(train_path, names=col_names, header=0)\n",
    "test = pd.read_csv(test_path, names=col_names, header=0)"
   ]
  },
  {
   "cell_type": "code",
   "execution_count": 5,
   "metadata": {},
   "outputs": [],
   "source": [
    "y_train = train.pop('Species')\n",
    "y_test = test.pop('Species')"
   ]
  },
  {
   "cell_type": "code",
   "execution_count": 6,
   "metadata": {},
   "outputs": [],
   "source": [
    "# a input function for TF estimator model\n",
    "def m_input_fn(features, labels, training=True, batch_size=256):\n",
    "    dataset = tf.data.Dataset.from_tensor_slices((dict(features), labels))\n",
    "    if training:\n",
    "        dataset = dataset.shuffle(100).repeat()\n",
    "    return dataset.batch(batch_size)"
   ]
  },
  {
   "cell_type": "code",
   "execution_count": 7,
   "metadata": {},
   "outputs": [],
   "source": [
    "# defining feature columns\n",
    "fc = []\n",
    "for k in train.keys():\n",
    "    fc.append(tf.feature_column.numeric_column(key=k))"
   ]
  },
  {
   "cell_type": "code",
   "execution_count": 8,
   "metadata": {
    "scrolled": true
   },
   "outputs": [
    {
     "name": "stdout",
     "output_type": "stream",
     "text": [
      "INFO:tensorflow:Using default config.\n",
      "WARNING:tensorflow:Using temporary folder as model directory: C:\\Users\\XeonAJ\\AppData\\Local\\Temp\\tmplsivdfno\n",
      "INFO:tensorflow:Using config: {'_model_dir': 'C:\\\\Users\\\\XeonAJ\\\\AppData\\\\Local\\\\Temp\\\\tmplsivdfno', '_tf_random_seed': None, '_save_summary_steps': 100, '_save_checkpoints_steps': None, '_save_checkpoints_secs': 600, '_session_config': allow_soft_placement: true\n",
      "graph_options {\n",
      "  rewrite_options {\n",
      "    meta_optimizer_iterations: ONE\n",
      "  }\n",
      "}\n",
      ", '_keep_checkpoint_max': 5, '_keep_checkpoint_every_n_hours': 10000, '_log_step_count_steps': 100, '_train_distribute': None, '_device_fn': None, '_protocol': None, '_eval_distribute': None, '_experimental_distribute': None, '_experimental_max_worker_delay_secs': None, '_session_creation_timeout_secs': 7200, '_service': None, '_cluster_spec': ClusterSpec({}), '_task_type': 'worker', '_task_id': 0, '_global_id_in_cluster': 0, '_master': '', '_evaluation_master': '', '_is_chief': True, '_num_ps_replicas': 0, '_num_worker_replicas': 1}\n"
     ]
    }
   ],
   "source": [
    "cla = tf.estimator.DNNClassifier(feature_columns=fc, hidden_units=[50,30,10], n_classes=3)"
   ]
  },
  {
   "cell_type": "code",
   "execution_count": 10,
   "metadata": {
    "scrolled": true
   },
   "outputs": [
    {
     "name": "stdout",
     "output_type": "stream",
     "text": [
      "INFO:tensorflow:Calling model_fn.\n",
      "WARNING:tensorflow:Layer dnn is casting an input tensor from dtype float64 to the layer's dtype of float32, which is new behavior in TensorFlow 2.  The layer has dtype float32 because it's dtype defaults to floatx.\n",
      "\n",
      "If you intended to run this layer in float32, you can safely ignore this warning. If in doubt, this warning is likely only an issue if you are porting a TensorFlow 1.X model to TensorFlow 2.\n",
      "\n",
      "To change all layers to have dtype float64 by default, call `tf.keras.backend.set_floatx('float64')`. To change just this layer, pass dtype='float64' to the layer constructor. If you are the author of this layer, you can disable autocasting by passing autocast=False to the base Layer constructor.\n",
      "\n",
      "WARNING:tensorflow:From C:\\Users\\XeonAJ\\.conda\\envs\\datacamp\\lib\\site-packages\\tensorflow_core\\python\\keras\\optimizer_v2\\adagrad.py:103: calling Constant.__init__ (from tensorflow.python.ops.init_ops) with dtype is deprecated and will be removed in a future version.\n",
      "Instructions for updating:\n",
      "Call initializer instance with the dtype argument instead of passing it to the constructor\n",
      "INFO:tensorflow:Done calling model_fn.\n",
      "INFO:tensorflow:Create CheckpointSaverHook.\n",
      "INFO:tensorflow:Graph was finalized.\n",
      "INFO:tensorflow:Running local_init_op.\n",
      "INFO:tensorflow:Done running local_init_op.\n",
      "INFO:tensorflow:Saving checkpoints for 0 into C:\\Users\\XeonAJ\\AppData\\Local\\Temp\\tmplsivdfno\\model.ckpt.\n",
      "INFO:tensorflow:loss = 1.2691754, step = 0\n",
      "INFO:tensorflow:global_step/sec: 311.361\n",
      "INFO:tensorflow:loss = 1.0081701, step = 100 (0.322 sec)\n",
      "INFO:tensorflow:global_step/sec: 363.837\n",
      "INFO:tensorflow:loss = 0.9868126, step = 200 (0.275 sec)\n",
      "INFO:tensorflow:global_step/sec: 380.463\n",
      "INFO:tensorflow:loss = 0.94967073, step = 300 (0.263 sec)\n",
      "INFO:tensorflow:global_step/sec: 380.464\n",
      "INFO:tensorflow:loss = 0.93078905, step = 400 (0.263 sec)\n",
      "INFO:tensorflow:global_step/sec: 400.415\n",
      "INFO:tensorflow:loss = 0.9192772, step = 500 (0.250 sec)\n",
      "INFO:tensorflow:global_step/sec: 361.235\n",
      "INFO:tensorflow:loss = 0.87894195, step = 600 (0.277 sec)\n",
      "INFO:tensorflow:global_step/sec: 395.501\n",
      "INFO:tensorflow:loss = 0.83940357, step = 700 (0.254 sec)\n",
      "INFO:tensorflow:global_step/sec: 392.398\n",
      "INFO:tensorflow:loss = 0.8294761, step = 800 (0.254 sec)\n",
      "INFO:tensorflow:global_step/sec: 378.295\n",
      "INFO:tensorflow:loss = 0.80434036, step = 900 (0.264 sec)\n",
      "INFO:tensorflow:global_step/sec: 402.647\n",
      "INFO:tensorflow:loss = 0.8067341, step = 1000 (0.248 sec)\n",
      "INFO:tensorflow:global_step/sec: 379.405\n",
      "INFO:tensorflow:loss = 0.764666, step = 1100 (0.264 sec)\n",
      "INFO:tensorflow:global_step/sec: 387.841\n",
      "INFO:tensorflow:loss = 0.74106354, step = 1200 (0.258 sec)\n",
      "INFO:tensorflow:global_step/sec: 406.755\n",
      "INFO:tensorflow:loss = 0.7216011, step = 1300 (0.246 sec)\n",
      "INFO:tensorflow:global_step/sec: 376.174\n",
      "INFO:tensorflow:loss = 0.7158149, step = 1400 (0.266 sec)\n",
      "INFO:tensorflow:global_step/sec: 381.916\n",
      "INFO:tensorflow:loss = 0.68238515, step = 1500 (0.262 sec)\n",
      "INFO:tensorflow:global_step/sec: 393.944\n",
      "INFO:tensorflow:loss = 0.67934185, step = 1600 (0.254 sec)\n",
      "INFO:tensorflow:global_step/sec: 395.503\n",
      "INFO:tensorflow:loss = 0.65184563, step = 1700 (0.253 sec)\n",
      "INFO:tensorflow:global_step/sec: 377.025\n",
      "INFO:tensorflow:loss = 0.6346991, step = 1800 (0.265 sec)\n",
      "INFO:tensorflow:global_step/sec: 389.346\n",
      "INFO:tensorflow:loss = 0.61957973, step = 1900 (0.257 sec)\n",
      "INFO:tensorflow:global_step/sec: 370.25\n",
      "INFO:tensorflow:loss = 0.59761584, step = 2000 (0.271 sec)\n",
      "INFO:tensorflow:global_step/sec: 359.935\n",
      "INFO:tensorflow:loss = 0.5854747, step = 2100 (0.278 sec)\n",
      "INFO:tensorflow:global_step/sec: 357.364\n",
      "INFO:tensorflow:loss = 0.56517184, step = 2200 (0.280 sec)\n",
      "INFO:tensorflow:global_step/sec: 294.299\n",
      "INFO:tensorflow:loss = 0.54785717, step = 2300 (0.340 sec)\n",
      "INFO:tensorflow:global_step/sec: 398.656\n",
      "INFO:tensorflow:loss = 0.53273165, step = 2400 (0.250 sec)\n",
      "INFO:tensorflow:global_step/sec: 400.249\n",
      "INFO:tensorflow:loss = 0.5119482, step = 2500 (0.250 sec)\n",
      "INFO:tensorflow:global_step/sec: 411.778\n",
      "INFO:tensorflow:loss = 0.5133637, step = 2600 (0.243 sec)\n",
      "INFO:tensorflow:global_step/sec: 405.528\n",
      "INFO:tensorflow:loss = 0.48666003, step = 2700 (0.246 sec)\n",
      "INFO:tensorflow:global_step/sec: 391.787\n",
      "INFO:tensorflow:loss = 0.48235354, step = 2800 (0.256 sec)\n",
      "INFO:tensorflow:global_step/sec: 410.077\n",
      "INFO:tensorflow:loss = 0.46266556, step = 2900 (0.244 sec)\n",
      "INFO:tensorflow:global_step/sec: 415.426\n",
      "INFO:tensorflow:loss = 0.449911, step = 3000 (0.242 sec)\n",
      "INFO:tensorflow:global_step/sec: 408.896\n",
      "INFO:tensorflow:loss = 0.4421212, step = 3100 (0.243 sec)\n",
      "INFO:tensorflow:global_step/sec: 403.543\n",
      "INFO:tensorflow:loss = 0.43070564, step = 3200 (0.248 sec)\n",
      "INFO:tensorflow:global_step/sec: 370.101\n",
      "INFO:tensorflow:loss = 0.41870868, step = 3300 (0.270 sec)\n",
      "INFO:tensorflow:global_step/sec: 386.863\n",
      "INFO:tensorflow:loss = 0.39782327, step = 3400 (0.258 sec)\n",
      "INFO:tensorflow:global_step/sec: 406.758\n",
      "INFO:tensorflow:loss = 0.3871112, step = 3500 (0.247 sec)\n",
      "INFO:tensorflow:global_step/sec: 406.757\n",
      "INFO:tensorflow:loss = 0.38129902, step = 3600 (0.245 sec)\n",
      "INFO:tensorflow:global_step/sec: 413.479\n",
      "INFO:tensorflow:loss = 0.37198213, step = 3700 (0.242 sec)\n",
      "INFO:tensorflow:global_step/sec: 362.542\n",
      "INFO:tensorflow:loss = 0.3536959, step = 3800 (0.276 sec)\n",
      "INFO:tensorflow:global_step/sec: 424.226\n",
      "INFO:tensorflow:loss = 0.35147223, step = 3900 (0.236 sec)\n",
      "INFO:tensorflow:global_step/sec: 395.501\n",
      "INFO:tensorflow:loss = 0.339745, step = 4000 (0.252 sec)\n",
      "INFO:tensorflow:global_step/sec: 406.752\n",
      "INFO:tensorflow:loss = 0.33710626, step = 4100 (0.247 sec)\n",
      "INFO:tensorflow:global_step/sec: 413.484\n",
      "INFO:tensorflow:loss = 0.3267343, step = 4200 (0.242 sec)\n",
      "INFO:tensorflow:global_step/sec: 416.923\n",
      "INFO:tensorflow:loss = 0.318518, step = 4300 (0.240 sec)\n",
      "INFO:tensorflow:global_step/sec: 403.477\n",
      "INFO:tensorflow:loss = 0.30752522, step = 4400 (0.248 sec)\n",
      "INFO:tensorflow:global_step/sec: 416.926\n",
      "INFO:tensorflow:loss = 0.29855353, step = 4500 (0.240 sec)\n",
      "INFO:tensorflow:global_step/sec: 415.193\n",
      "INFO:tensorflow:loss = 0.28750467, step = 4600 (0.240 sec)\n",
      "INFO:tensorflow:global_step/sec: 390.866\n",
      "INFO:tensorflow:loss = 0.28366947, step = 4700 (0.256 sec)\n",
      "INFO:tensorflow:global_step/sec: 422.206\n",
      "INFO:tensorflow:loss = 0.27871615, step = 4800 (0.238 sec)\n",
      "INFO:tensorflow:global_step/sec: 397.071\n",
      "INFO:tensorflow:loss = 0.27319816, step = 4900 (0.253 sec)\n",
      "INFO:tensorflow:global_step/sec: 397.069\n",
      "INFO:tensorflow:loss = 0.2644964, step = 5000 (0.252 sec)\n",
      "INFO:tensorflow:global_step/sec: 405.113\n",
      "INFO:tensorflow:loss = 0.26018068, step = 5100 (0.246 sec)\n",
      "INFO:tensorflow:global_step/sec: 415.195\n",
      "INFO:tensorflow:loss = 0.25063145, step = 5200 (0.241 sec)\n",
      "INFO:tensorflow:global_step/sec: 415.057\n",
      "INFO:tensorflow:loss = 0.24303557, step = 5300 (0.240 sec)\n",
      "INFO:tensorflow:global_step/sec: 385.016\n",
      "INFO:tensorflow:loss = 0.23832428, step = 5400 (0.262 sec)\n",
      "INFO:tensorflow:global_step/sec: 309.789\n",
      "INFO:tensorflow:loss = 0.23604947, step = 5500 (0.322 sec)\n",
      "INFO:tensorflow:global_step/sec: 395.502\n",
      "INFO:tensorflow:loss = 0.2332372, step = 5600 (0.254 sec)\n",
      "INFO:tensorflow:global_step/sec: 389.345\n",
      "INFO:tensorflow:loss = 0.22017124, step = 5700 (0.256 sec)\n",
      "INFO:tensorflow:global_step/sec: 408.416\n",
      "INFO:tensorflow:loss = 0.22828655, step = 5800 (0.244 sec)\n",
      "INFO:tensorflow:global_step/sec: 380.466\n",
      "INFO:tensorflow:loss = 0.21309765, step = 5900 (0.264 sec)\n",
      "INFO:tensorflow:global_step/sec: 400.244\n",
      "INFO:tensorflow:loss = 0.20635611, step = 6000 (0.250 sec)\n",
      "INFO:tensorflow:global_step/sec: 408.42\n",
      "INFO:tensorflow:loss = 0.20737308, step = 6100 (0.245 sec)\n",
      "INFO:tensorflow:global_step/sec: 366.527\n",
      "INFO:tensorflow:loss = 0.20320946, step = 6200 (0.273 sec)\n",
      "INFO:tensorflow:global_step/sec: 384.855\n",
      "INFO:tensorflow:loss = 0.19211608, step = 6300 (0.260 sec)\n",
      "INFO:tensorflow:global_step/sec: 397.071\n",
      "INFO:tensorflow:loss = 0.19024453, step = 6400 (0.252 sec)\n",
      "INFO:tensorflow:global_step/sec: 403.476\n",
      "INFO:tensorflow:loss = 0.19302821, step = 6500 (0.248 sec)\n",
      "INFO:tensorflow:global_step/sec: 408.415\n",
      "INFO:tensorflow:loss = 0.18838622, step = 6600 (0.245 sec)\n",
      "INFO:tensorflow:global_step/sec: 404.576\n",
      "INFO:tensorflow:loss = 0.18782775, step = 6700 (0.247 sec)\n",
      "INFO:tensorflow:global_step/sec: 408.061\n",
      "INFO:tensorflow:loss = 0.18039341, step = 6800 (0.246 sec)\n",
      "INFO:tensorflow:global_step/sec: 406.489\n",
      "INFO:tensorflow:loss = 0.1819939, step = 6900 (0.246 sec)\n",
      "INFO:tensorflow:global_step/sec: 403.703\n",
      "INFO:tensorflow:loss = 0.16930059, step = 7000 (0.247 sec)\n",
      "INFO:tensorflow:global_step/sec: 402.17\n",
      "INFO:tensorflow:loss = 0.1566182, step = 7100 (0.250 sec)\n",
      "INFO:tensorflow:global_step/sec: 400.245\n",
      "INFO:tensorflow:loss = 0.16232032, step = 7200 (0.248 sec)\n",
      "INFO:tensorflow:global_step/sec: 389.347\n",
      "INFO:tensorflow:loss = 0.16361004, step = 7300 (0.257 sec)\n",
      "INFO:tensorflow:global_step/sec: 410.092\n",
      "INFO:tensorflow:loss = 0.16743842, step = 7400 (0.245 sec)\n",
      "INFO:tensorflow:global_step/sec: 415.194\n",
      "INFO:tensorflow:loss = 0.15647984, step = 7500 (0.241 sec)\n",
      "INFO:tensorflow:global_step/sec: 354.83\n",
      "INFO:tensorflow:loss = 0.15604831, step = 7600 (0.283 sec)\n",
      "INFO:tensorflow:global_step/sec: 391.135\n",
      "INFO:tensorflow:loss = 0.14868504, step = 7700 (0.255 sec)\n",
      "INFO:tensorflow:global_step/sec: 408.419\n",
      "INFO:tensorflow:loss = 0.15247118, step = 7800 (0.246 sec)\n",
      "INFO:tensorflow:global_step/sec: 390.866\n",
      "INFO:tensorflow:loss = 0.15293717, step = 7900 (0.255 sec)\n",
      "INFO:tensorflow:global_step/sec: 373.365\n",
      "INFO:tensorflow:loss = 0.14650716, step = 8000 (0.268 sec)\n",
      "INFO:tensorflow:global_step/sec: 381.919\n",
      "INFO:tensorflow:loss = 0.14335781, step = 8100 (0.262 sec)\n",
      "INFO:tensorflow:global_step/sec: 400.247\n",
      "INFO:tensorflow:loss = 0.14123943, step = 8200 (0.251 sec)\n",
      "INFO:tensorflow:global_step/sec: 352.331\n",
      "INFO:tensorflow:loss = 0.13967273, step = 8300 (0.284 sec)\n",
      "INFO:tensorflow:global_step/sec: 301.392\n",
      "INFO:tensorflow:loss = 0.13582286, step = 8400 (0.333 sec)\n",
      "INFO:tensorflow:global_step/sec: 416.548\n",
      "INFO:tensorflow:loss = 0.12451631, step = 8500 (0.238 sec)\n",
      "INFO:tensorflow:global_step/sec: 366.527\n",
      "INFO:tensorflow:loss = 0.13368517, step = 8600 (0.273 sec)\n",
      "INFO:tensorflow:global_step/sec: 415.128\n",
      "INFO:tensorflow:loss = 0.13175334, step = 8700 (0.241 sec)\n",
      "INFO:tensorflow:global_step/sec: 413.479\n",
      "INFO:tensorflow:loss = 0.12797493, step = 8800 (0.242 sec)\n",
      "INFO:tensorflow:global_step/sec: 416.927\n",
      "INFO:tensorflow:loss = 0.13106906, step = 8900 (0.240 sec)\n",
      "INFO:tensorflow:global_step/sec: 377.586\n",
      "INFO:tensorflow:loss = 0.13497183, step = 9000 (0.267 sec)\n",
      "INFO:tensorflow:global_step/sec: 393.952\n",
      "INFO:tensorflow:loss = 0.13603896, step = 9100 (0.252 sec)\n",
      "INFO:tensorflow:global_step/sec: 422.203\n",
      "INFO:tensorflow:loss = 0.121972576, step = 9200 (0.238 sec)\n",
      "INFO:tensorflow:global_step/sec: 416.926\n",
      "INFO:tensorflow:loss = 0.12301424, step = 9300 (0.240 sec)\n",
      "INFO:tensorflow:global_step/sec: 403.475\n",
      "INFO:tensorflow:loss = 0.11799681, step = 9400 (0.248 sec)\n",
      "INFO:tensorflow:global_step/sec: 392.401\n",
      "INFO:tensorflow:loss = 0.12516475, step = 9500 (0.254 sec)\n",
      "INFO:tensorflow:global_step/sec: 367.254\n",
      "INFO:tensorflow:loss = 0.116689235, step = 9600 (0.272 sec)\n",
      "INFO:tensorflow:global_step/sec: 418.958\n",
      "INFO:tensorflow:loss = 0.11891781, step = 9700 (0.240 sec)\n",
      "INFO:tensorflow:global_step/sec: 411.78\n",
      "INFO:tensorflow:loss = 0.11725481, step = 9800 (0.242 sec)\n",
      "INFO:tensorflow:global_step/sec: 406.756\n",
      "INFO:tensorflow:loss = 0.117599174, step = 9900 (0.246 sec)\n",
      "INFO:tensorflow:Saving checkpoints for 10000 into C:\\Users\\XeonAJ\\AppData\\Local\\Temp\\tmplsivdfno\\model.ckpt.\n",
      "INFO:tensorflow:Loss for final step: 0.114811465.\n"
     ]
    },
    {
     "data": {
      "text/plain": [
       "<tensorflow_estimator.python.estimator.canned.dnn.DNNClassifierV2 at 0x1ed8cf8f128>"
      ]
     },
     "execution_count": 10,
     "metadata": {},
     "output_type": "execute_result"
    }
   ],
   "source": [
    "# training with 10000 steps\n",
    "cla.train(input_fn=lambda: m_input_fn(train, y_train, training=True), steps=10000) "
   ]
  },
  {
   "cell_type": "code",
   "execution_count": 12,
   "metadata": {
    "scrolled": true
   },
   "outputs": [
    {
     "name": "stdout",
     "output_type": "stream",
     "text": [
      "INFO:tensorflow:Calling model_fn.\n",
      "WARNING:tensorflow:Layer dnn is casting an input tensor from dtype float64 to the layer's dtype of float32, which is new behavior in TensorFlow 2.  The layer has dtype float32 because it's dtype defaults to floatx.\n",
      "\n",
      "If you intended to run this layer in float32, you can safely ignore this warning. If in doubt, this warning is likely only an issue if you are porting a TensorFlow 1.X model to TensorFlow 2.\n",
      "\n",
      "To change all layers to have dtype float64 by default, call `tf.keras.backend.set_floatx('float64')`. To change just this layer, pass dtype='float64' to the layer constructor. If you are the author of this layer, you can disable autocasting by passing autocast=False to the base Layer constructor.\n",
      "\n",
      "INFO:tensorflow:Done calling model_fn.\n",
      "INFO:tensorflow:Starting evaluation at 2020-04-16T20:25:30Z\n",
      "INFO:tensorflow:Graph was finalized.\n",
      "INFO:tensorflow:Restoring parameters from C:\\Users\\XeonAJ\\AppData\\Local\\Temp\\tmplsivdfno\\model.ckpt-10000\n",
      "INFO:tensorflow:Running local_init_op.\n",
      "INFO:tensorflow:Done running local_init_op.\n",
      "INFO:tensorflow:Inference Time : 0.57806s\n",
      "INFO:tensorflow:Finished evaluation at 2020-04-16-20:25:31\n",
      "INFO:tensorflow:Saving dict for global step 10000: accuracy = 0.96666664, average_loss = 0.11369084, global_step = 10000, loss = 0.11369084\n",
      "INFO:tensorflow:Saving 'checkpoint_path' summary for global step 10000: C:\\Users\\XeonAJ\\AppData\\Local\\Temp\\tmplsivdfno\\model.ckpt-10000\n",
      "0.96666664\n"
     ]
    }
   ],
   "source": [
    "#evaluate scuuracy of the model using the testing set\n",
    "eval_score = cla.evaluate(input_fn=lambda: m_input_fn(test, y_test, training=False))\n",
    "print(eval_score['accuracy'])"
   ]
  },
  {
   "cell_type": "code",
   "execution_count": 14,
   "metadata": {},
   "outputs": [
    {
     "name": "stdin",
     "output_type": "stream",
     "text": [
      "SepalLength:  5\n",
      "SepalWidth:  1\n",
      "PetalLength:  6\n",
      "PetalWidth:  3\n"
     ]
    },
    {
     "name": "stdout",
     "output_type": "stream",
     "text": [
      "INFO:tensorflow:Calling model_fn.\n",
      "INFO:tensorflow:Done calling model_fn.\n",
      "INFO:tensorflow:Graph was finalized.\n",
      "INFO:tensorflow:Restoring parameters from C:\\Users\\XeonAJ\\AppData\\Local\\Temp\\tmplsivdfno\\model.ckpt-10000\n",
      "INFO:tensorflow:Running local_init_op.\n",
      "INFO:tensorflow:Done running local_init_op.\n"
     ]
    }
   ],
   "source": [
    "# imput function for prediction\n",
    "def p_input_fn(features, batch_size=256):\n",
    "    return tf.data.Dataset.from_tensor_slices(dict(features)).batch(batch_size)"
   ]
  },
  {
   "cell_type": "code",
   "execution_count": 16,
   "metadata": {},
   "outputs": [
    {
     "name": "stdin",
     "output_type": "stream",
     "text": [
      "SepalLength:  2\n",
      "SepalWidth:  3\n",
      "PetalLength:  4\n",
      "PetalWidth:  5\n"
     ]
    }
   ],
   "source": [
    "# predict dictionary\n",
    "predict = {}\n",
    "for col in col_names[0:4]:\n",
    "    predict[col] = [float(input(col + \": \"))]"
   ]
  },
  {
   "cell_type": "code",
   "execution_count": 17,
   "metadata": {},
   "outputs": [
    {
     "name": "stdout",
     "output_type": "stream",
     "text": [
      "INFO:tensorflow:Calling model_fn.\n",
      "INFO:tensorflow:Done calling model_fn.\n",
      "INFO:tensorflow:Graph was finalized.\n",
      "INFO:tensorflow:Restoring parameters from C:\\Users\\XeonAJ\\AppData\\Local\\Temp\\tmplsivdfno\\model.ckpt-10000\n",
      "INFO:tensorflow:Running local_init_op.\n",
      "INFO:tensorflow:Done running local_init_op.\n",
      "Class Virginica with probablity of 0.9999922513961792\n"
     ]
    }
   ],
   "source": [
    "# clean results and display them\n",
    "pred = list(cla.predict(input_fn=lambda: p_input_fn(predict)))\n",
    "classid = pred[0]['class_ids'][0]\n",
    "print(f\"Class {species[classid]} with probablity of {pred[0]['probabilities'][classid]}\")"
   ]
  },
  {
   "cell_type": "code",
   "execution_count": null,
   "metadata": {},
   "outputs": [],
   "source": []
  }
 ],
 "metadata": {
  "kernelspec": {
   "display_name": "datacamp",
   "language": "python",
   "name": "datacamp"
  },
  "language_info": {
   "codemirror_mode": {
    "name": "ipython",
    "version": 3
   },
   "file_extension": ".py",
   "mimetype": "text/x-python",
   "name": "python",
   "nbconvert_exporter": "python",
   "pygments_lexer": "ipython3",
   "version": "3.6.10"
  }
 },
 "nbformat": 4,
 "nbformat_minor": 4
}
