{
 "cells": [
  {
   "cell_type": "markdown",
   "metadata": {},
   "source": [
    "# Fasion MNIST Keras Sequential model!"
   ]
  },
  {
   "cell_type": "code",
   "execution_count": 1,
   "metadata": {},
   "outputs": [],
   "source": [
    "import tensorflow as tf\n",
    "from tensorflow import keras\n",
    "\n",
    "import numpy as np\n",
    "import matplotlib.pyplot as plt"
   ]
  },
  {
   "cell_type": "code",
   "execution_count": 2,
   "metadata": {},
   "outputs": [],
   "source": [
    "(x_train, y_train), (x_test, y_test) = keras.datasets.fashion_mnist.load_data()"
   ]
  },
  {
   "cell_type": "code",
   "execution_count": 3,
   "metadata": {},
   "outputs": [],
   "source": [
    "class_names = ['T-shit/top','Trouser','Pullover','Dress','Coat','Sandal','Shirt','Sneaker','Bag','Ankle Boot']"
   ]
  },
  {
   "cell_type": "code",
   "execution_count": 4,
   "metadata": {},
   "outputs": [],
   "source": [
    "x_train = x_train /255.0\n",
    "x_test = x_test / 255.0"
   ]
  },
  {
   "cell_type": "code",
   "execution_count": 5,
   "metadata": {
    "scrolled": true
   },
   "outputs": [
    {
     "name": "stdout",
     "output_type": "stream",
     "text": [
      "Train on 60000 samples\n",
      "Epoch 1/8\n",
      "60000/60000 [==============================] - 5s 80us/sample - loss: 0.4986 - accuracy: 0.8252\n",
      "Epoch 2/8\n",
      "60000/60000 [==============================] - 4s 73us/sample - loss: 0.3776 - accuracy: 0.8637\n",
      "Epoch 3/8\n",
      "60000/60000 [==============================] - 4s 71us/sample - loss: 0.3367 - accuracy: 0.8780\n",
      "Epoch 4/8\n",
      "60000/60000 [==============================] - 4s 71us/sample - loss: 0.3138 - accuracy: 0.8856\n",
      "Epoch 5/8\n",
      "60000/60000 [==============================] - 4s 71us/sample - loss: 0.2956 - accuracy: 0.8909\n",
      "Epoch 6/8\n",
      "60000/60000 [==============================] - 4s 71us/sample - loss: 0.2814 - accuracy: 0.8962\n",
      "Epoch 7/8\n",
      "60000/60000 [==============================] - 4s 72us/sample - loss: 0.2693 - accuracy: 0.9001\n",
      "Epoch 8/8\n",
      "60000/60000 [==============================] - 4s 72us/sample - loss: 0.2585 - accuracy: 0.9046\n"
     ]
    },
    {
     "data": {
      "text/plain": [
       "<tensorflow.python.keras.callbacks.History at 0x19a87db22b0>"
      ]
     },
     "execution_count": 5,
     "metadata": {},
     "output_type": "execute_result"
    }
   ],
   "source": [
    "model = keras.Sequential([\n",
    "    keras.layers.Flatten(input_shape=(28, 28)),\n",
    "    keras.layers.Dense(128, activation='relu'),\n",
    "    keras.layers.Dense(10, activation='softmax')\n",
    "])\n",
    "\n",
    "model.compile(optimizer='adam',\n",
    "             loss='sparse_categorical_crossentropy',\n",
    "             metrics=['accuracy'])\n",
    "\n",
    "model.fit(x_train,y_train,epochs=8)"
   ]
  },
  {
   "cell_type": "code",
   "execution_count": 6,
   "metadata": {},
   "outputs": [
    {
     "name": "stdout",
     "output_type": "stream",
     "text": [
      "10000/10000 [==============================] - 0s 50us/sample - loss: 0.3251 - accuracy: 0.8839\n",
      "Acc =  0.8839\n"
     ]
    }
   ],
   "source": [
    "loss, acc = model.evaluate(x_test, y_test, verbose=1)\n",
    "print(\"Acc = \",acc)"
   ]
  },
  {
   "cell_type": "code",
   "execution_count": null,
   "metadata": {},
   "outputs": [],
   "source": [
    "# Lets make use of it!\n",
    "\n",
    "p_num = int(input('Enter a number between 0 and 9,999: '))\n",
    "pred = model.predict(x_test)\n",
    "\n",
    "print(\"Predicted: \"+class_names[np.argmax(pred[p_num])])\n",
    "\n",
    "plt.figure()\n",
    "plt.imshow(x_test[p_num])\n",
    "plt.colorbar()\n",
    "plt.grid(False)\n",
    "plt.show()\n",
    "\n",
    "print(\"Actual: \"+class_names[y_test[p_num]])"
   ]
  },
  {
   "cell_type": "code",
   "execution_count": null,
   "metadata": {},
   "outputs": [],
   "source": []
  }
 ],
 "metadata": {
  "kernelspec": {
   "display_name": "datacamp",
   "language": "python",
   "name": "datacamp"
  },
  "language_info": {
   "codemirror_mode": {
    "name": "ipython",
    "version": 3
   },
   "file_extension": ".py",
   "mimetype": "text/x-python",
   "name": "python",
   "nbconvert_exporter": "python",
   "pygments_lexer": "ipython3",
   "version": "3.6.10"
  }
 },
 "nbformat": 4,
 "nbformat_minor": 4
}
