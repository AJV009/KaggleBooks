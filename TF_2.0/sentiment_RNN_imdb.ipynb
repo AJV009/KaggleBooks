{
  "nbformat": 4,
  "nbformat_minor": 0,
  "metadata": {
    "colab": {
      "name": "sentiment-RNN-imdb.ipynb",
      "provenance": []
    },
    "kernelspec": {
      "name": "python3",
      "display_name": "Python 3"
    },
    "accelerator": "GPU"
  },
  "cells": [
    {
      "cell_type": "code",
      "metadata": {
        "id": "9axbb8MuQZuh",
        "colab_type": "code",
        "colab": {}
      },
      "source": [
        "from keras.datasets import imdb\n",
        "from keras.preprocessing import sequence\n",
        "import tensorflow as tf\n",
        "import os\n",
        "import numpy as np"
      ],
      "execution_count": 0,
      "outputs": []
    },
    {
      "cell_type": "code",
      "metadata": {
        "id": "Xm3TL4jyQ0da",
        "colab_type": "code",
        "colab": {}
      },
      "source": [
        "vocab_size = 100000\n",
        "maxlen = 250\n",
        "batch_size = 64\n",
        "\n",
        "(X_train, y_train), (X_test, y_test) = imdb.load_data(num_words = vocab_size)"
      ],
      "execution_count": 0,
      "outputs": []
    },
    {
      "cell_type": "code",
      "metadata": {
        "id": "L4OYEOFuRO3C",
        "colab_type": "code",
        "colab": {}
      },
      "source": [
        "X_train = sequence.pad_sequences(X_train, maxlen)\n",
        "X_test = sequence.pad_sequences(X_test, maxlen)"
      ],
      "execution_count": 0,
      "outputs": []
    },
    {
      "cell_type": "code",
      "metadata": {
        "id": "IkH6MMC4R64h",
        "colab_type": "code",
        "colab": {}
      },
      "source": [
        "model = tf.keras.Sequential([\n",
        "                             tf.keras.layers.Embedding(vocab_size,32),\n",
        "                             tf.keras.layers.LSTM(32),\n",
        "                             tf.keras.layers.Dense(1, activation=\"sigmoid\")\n",
        "])"
      ],
      "execution_count": 0,
      "outputs": []
    },
    {
      "cell_type": "code",
      "metadata": {
        "id": "Zdx5XHeYT6v5",
        "colab_type": "code",
        "colab": {
          "base_uri": "https://localhost:8080/",
          "height": 201
        },
        "outputId": "28f537d4-c63a-49f0-ef9e-14fa7a3c153f"
      },
      "source": [
        "model.compile(loss='binary_crossentropy', optimizer='rmsprop', metrics=['acc'])\n",
        "histroy = model.fit(X_train, y_train, epochs=5, validation_split=0.1)"
      ],
      "execution_count": 66,
      "outputs": [
        {
          "output_type": "stream",
          "text": [
            "Epoch 1/5\n",
            "704/704 [==============================] - 20s 28ms/step - loss: 0.0946 - acc: 0.9702 - val_loss: 0.3329 - val_acc: 0.8896\n",
            "Epoch 2/5\n",
            "704/704 [==============================] - 19s 27ms/step - loss: 0.0787 - acc: 0.9745 - val_loss: 0.3297 - val_acc: 0.8896\n",
            "Epoch 3/5\n",
            "704/704 [==============================] - 18s 26ms/step - loss: 0.0665 - acc: 0.9783 - val_loss: 0.4239 - val_acc: 0.8868\n",
            "Epoch 4/5\n",
            "704/704 [==============================] - 19s 26ms/step - loss: 0.0595 - acc: 0.9812 - val_loss: 0.3607 - val_acc: 0.8824\n",
            "Epoch 5/5\n",
            "704/704 [==============================] - 19s 27ms/step - loss: 0.0512 - acc: 0.9839 - val_loss: 0.3913 - val_acc: 0.8900\n"
          ],
          "name": "stdout"
        }
      ]
    },
    {
      "cell_type": "code",
      "metadata": {
        "id": "-wpClUUSVQ1n",
        "colab_type": "code",
        "colab": {
          "base_uri": "https://localhost:8080/",
          "height": 54
        },
        "outputId": "02b2c0fc-408e-4f32-dba0-05a054acd76e"
      },
      "source": [
        "results = model.evaluate(X_test, y_test)\n",
        "print(results)\n",
        "model.save(\"sentiment-RNN-imdb.h5\")"
      ],
      "execution_count": 67,
      "outputs": [
        {
          "output_type": "stream",
          "text": [
            "782/782 [==============================] - 5s 7ms/step - loss: 0.5328 - acc: 0.8504\n",
            "[0.5327765345573425, 0.8504400253295898]\n"
          ],
          "name": "stdout"
        }
      ]
    },
    {
      "cell_type": "code",
      "metadata": {
        "id": "AL9X8joiXzYo",
        "colab_type": "code",
        "colab": {}
      },
      "source": [
        "model = tf.keras.models.load_model(\"sentiment-RNN-imdb.h5\")\n",
        "\n",
        "word_index = imdb.get_word_index()\n",
        "rev_word_index = {value: key for (key, value) in word_index.items()}\n",
        "\n",
        "def encode_text(text): return sequence.pad_sequences( [ [word_index[word] if word in word_index else 0 for word in (tf.keras.preprocessing.text.text_to_word_sequence(text))] ], maxlen)[0]\n",
        "\n",
        "def decode_integer(integer): return ' '.join(map(str, [rev_word_index[num] for num in integer if num!= 0]))\n",
        "\n",
        "def prediction(text):\n",
        "  pred = np.zeros((1, 250))\n",
        "  pred[0] = encode_text(text)\n",
        "  pred_val = model.predict(pred)\n",
        "  return (\" Positive \" if (pred_val) >= 0.5  else \" Negative \"), pred_val\n"
      ],
      "execution_count": 0,
      "outputs": []
    },
    {
      "cell_type": "code",
      "metadata": {
        "id": "4fdZkg5Kar6P",
        "colab_type": "code",
        "colab": {
          "base_uri": "https://localhost:8080/",
          "height": 54
        },
        "outputId": "004a4035-43f3-43c6-ef18-b8cd599cf589"
      },
      "source": [
        "print(prediction(str(input(\"Enter a movie review: \"))))"
      ],
      "execution_count": 82,
      "outputs": [
        {
          "output_type": "stream",
          "text": [
            "Enter a movie review: a must watch movie\n",
            "(' Negative ', array([[0.17310469]], dtype=float32))\n"
          ],
          "name": "stdout"
        }
      ]
    },
    {
      "cell_type": "code",
      "metadata": {
        "id": "wtFlqdV5k8a-",
        "colab_type": "code",
        "colab": {}
      },
      "source": [
        ""
      ],
      "execution_count": 0,
      "outputs": []
    }
  ]
}