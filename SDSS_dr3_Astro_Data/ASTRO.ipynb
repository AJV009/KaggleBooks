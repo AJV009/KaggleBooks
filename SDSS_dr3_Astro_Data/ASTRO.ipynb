{
  "nbformat": 4,
  "nbformat_minor": 0,
  "metadata": {
    "colab": {
      "name": "ASTRO.ipynb",
      "provenance": [],
      "collapsed_sections": [],
      "machine_shape": "hm",
      "authorship_tag": "ABX9TyOs2DnaLq/M0oeaWiG2y14X",
      "include_colab_link": true
    },
    "kernelspec": {
      "name": "python3",
      "display_name": "Python 3"
    }
  },
  "cells": [
    {
      "cell_type": "markdown",
      "metadata": {
        "id": "view-in-github",
        "colab_type": "text"
      },
      "source": [
        "<a href=\"https://colab.research.google.com/github/AJV009/SDSS_dr3_Astro_Data/blob/master/ASTRO.ipynb\" target=\"_parent\"><img src=\"https://colab.research.google.com/assets/colab-badge.svg\" alt=\"Open In Colab\"/></a>"
      ]
    },
    {
      "cell_type": "code",
      "metadata": {
        "id": "U1qPIjfc07BH",
        "colab_type": "code",
        "colab": {}
      },
      "source": [
        "# Download Dataset!\n",
        "!wget https://www.cadc-ccda.hia-iha.nrc-cnrc.gc.ca/data/pub/NBALL/dr3_Oct_catalog_id.csv # skyVersion, run, rerun, camCol, field, obj\n",
        "!wget https://www.cadc-ccda.hia-iha.nrc-cnrc.gc.ca/data/pub/NBALL/dr3_Oct_catalog_radec.csv # right ascension and declination\n",
        "!wget https://www.cadc-ccda.hia-iha.nrc-cnrc.gc.ca/data/pub/NBALL/dr3_Oct_catalog_pgns.csv # Classification probability P(galaxy,neither,star)\n",
        "!wget https://www.cadc-ccda.hia-iha.nrc-cnrc.gc.ca/data/pub/NBALL/dr3_Oct_catalog_photoz.csv # Photometric redshift\n",
        "!wget https://www.cadc-ccda.hia-iha.nrc-cnrc.gc.ca/data/pub/NBALL/dr3_Oct_catalog_dered_iz.csv # Extinction-corrected model i and z magnitudes\n",
        "!wget https://www.cadc-ccda.hia-iha.nrc-cnrc.gc.ca/data/pub/NBALL/dr3_Oct_catalog_dered_ugr.csv # Extinction-corrected model u, g, and r magnitudes\n",
        "!wget https://www.cadc-ccda.hia-iha.nrc-cnrc.gc.ca/data/pub/NBALL/dr3_Oct_catalog_err_iz.csv # Model i and z magnitude errors\n",
        "!wget https://www.cadc-ccda.hia-iha.nrc-cnrc.gc.ca/data/pub/NBALL/dr3_Oct_catalog_err_ugr.csv # Model u, g, and r\n",
        "!wget https://www.cadc-ccda.hia-iha.nrc-cnrc.gc.ca/data/pub/NBALL/dr3_Oct_catalog_extinction.csv # Extinction due to Galactic dust, "
      ],
      "execution_count": 0,
      "outputs": []
    },
    {
      "cell_type": "code",
      "metadata": {
        "id": "FVKRVgFl1KyE",
        "colab_type": "code",
        "colab": {}
      },
      "source": [
        "import os, numpy as np, pandas as pd\n",
        "dr3_id = pd.read_csv('dr3_Oct_catalog_id.csv').head(500000)\n",
        "dr3 = pd.DataFrame()\n",
        "dr3 = pd.concat([dr3,dr3_id],axis=1)\n",
        "del dr3_id"
      ],
      "execution_count": 0,
      "outputs": []
    },
    {
      "cell_type": "code",
      "metadata": {
        "id": "HXqyFFTxJ-Km",
        "colab_type": "code",
        "colab": {}
      },
      "source": [
        "dr3_radec = pd.read_csv('dr3_Oct_catalog_radec.csv').head(500000)\n",
        "dr3 = pd.concat([dr3,dr3_radec],axis=1)\n",
        "del dr3_radec"
      ],
      "execution_count": 0,
      "outputs": []
    },
    {
      "cell_type": "code",
      "metadata": {
        "id": "eJipu652J2rX",
        "colab_type": "code",
        "colab": {}
      },
      "source": [
        "dr3_pgns = pd.read_csv('dr3_Oct_catalog_pgns.csv').head(500000)\n",
        "dr3 = pd.concat([dr3,dr3_pgns],axis=1)\n",
        "del dr3_pgns"
      ],
      "execution_count": 0,
      "outputs": []
    },
    {
      "cell_type": "code",
      "metadata": {
        "id": "m4oUaOZrKDmA",
        "colab_type": "code",
        "colab": {}
      },
      "source": [
        "dr3_photoz = pd.read_csv('dr3_Oct_catalog_photoz.csv').head(500000)\n",
        "dr3 = pd.concat([dr3,dr3_photoz],axis=1)\n",
        "del dr3_photoz"
      ],
      "execution_count": 0,
      "outputs": []
    },
    {
      "cell_type": "code",
      "metadata": {
        "id": "eBD3ZaxPKH--",
        "colab_type": "code",
        "colab": {}
      },
      "source": [
        "dr3_dered_iz = pd.read_csv('dr3_Oct_catalog_dered_iz.csv').head(500000)\n",
        "dr3 = pd.concat([dr3,dr3_dered_iz],axis=1)\n",
        "del dr3_dered_iz"
      ],
      "execution_count": 0,
      "outputs": []
    },
    {
      "cell_type": "code",
      "metadata": {
        "id": "G75r5INPKIqI",
        "colab_type": "code",
        "colab": {}
      },
      "source": [
        "dr3_dered_ugr = pd.read_csv('dr3_Oct_catalog_dered_ugr.csv').head(500000)\n",
        "dr3 = pd.concat([dr3,dr3_dered_ugr],axis=1)\n",
        "del dr3_dered_ugr"
      ],
      "execution_count": 0,
      "outputs": []
    },
    {
      "cell_type": "code",
      "metadata": {
        "id": "XiAGxY4ZKKZ3",
        "colab_type": "code",
        "colab": {}
      },
      "source": [
        "dr3_err_iz = pd.read_csv('dr3_Oct_catalog_err_iz.csv').head(500000)\n",
        "dr3 = pd.concat([dr3,dr3_err_iz],axis=1)\n",
        "del dr3_err_iz"
      ],
      "execution_count": 0,
      "outputs": []
    },
    {
      "cell_type": "code",
      "metadata": {
        "id": "miAS6KlZKMPa",
        "colab_type": "code",
        "colab": {}
      },
      "source": [
        "dr3_err_ugr = pd.read_csv('dr3_Oct_catalog_err_ugr.csv').head(500000)\n",
        "dr3 = pd.concat([dr3,dr3_err_ugr],axis=1)\n",
        "del dr3_err_ugr"
      ],
      "execution_count": 0,
      "outputs": []
    },
    {
      "cell_type": "code",
      "metadata": {
        "id": "BA8BKnaUKPF2",
        "colab_type": "code",
        "colab": {}
      },
      "source": [
        "dr3_extinction = pd.read_csv('dr3_Oct_catalog_extinction.csv').head(500000)\n",
        "dr3 = pd.concat([dr3,dr3_extinction],axis=1)\n",
        "del dr3_extinction"
      ],
      "execution_count": 0,
      "outputs": []
    },
    {
      "cell_type": "code",
      "metadata": {
        "id": "Nw84fpWudFzf",
        "colab_type": "code",
        "colab": {}
      },
      "source": [
        "dr3.to_csv('dr3_500000.csv')"
      ],
      "execution_count": 0,
      "outputs": []
    },
    {
      "cell_type": "code",
      "metadata": {
        "id": "xRYMLoFVbgto",
        "colab_type": "code",
        "outputId": "13c41ca5-50ee-4ffc-c468-3386faf0e7f0",
        "colab": {
          "base_uri": "https://localhost:8080/",
          "height": 127
        }
      },
      "source": [
        "!ls"
      ],
      "execution_count": 0,
      "outputs": [
        {
          "output_type": "stream",
          "text": [
            "dr3_500000.csv\t\t\tdr3_Oct_catalog_id.csv\n",
            "dr3_Oct_catalog_dered_iz.csv\tdr3_Oct_catalog_pgns.csv\n",
            "dr3_Oct_catalog_dered_ugr.csv\tdr3_Oct_catalog_photoz.csv\n",
            "dr3_Oct_catalog_err_iz.csv\tdr3_Oct_catalog_radec.csv\n",
            "dr3_Oct_catalog_err_ugr.csv\tsample_data\n",
            "dr3_Oct_catalog_extinction.csv\n"
          ],
          "name": "stdout"
        }
      ]
    },
    {
      "cell_type": "code",
      "metadata": {
        "id": "M0WDgG-P04kv",
        "colab_type": "code",
        "outputId": "69281e86-8da2-45d2-d38f-3820dd17960e",
        "colab": {
          "base_uri": "https://localhost:8080/",
          "height": 129
        }
      },
      "source": [
        "from google.colab import drive\n",
        "drive.mount('/content/gdrive',force_remount=True)"
      ],
      "execution_count": 0,
      "outputs": [
        {
          "output_type": "stream",
          "text": [
            "Go to this URL in a browser: https://accounts.google.com/o/oauth2/auth?client_id=947318989803-6bn6qk8qdgf4n4g3pfee6491hc0brc4i.apps.googleusercontent.com&redirect_uri=urn%3aietf%3awg%3aoauth%3a2.0%3aoob&response_type=code&scope=email%20https%3a%2f%2fwww.googleapis.com%2fauth%2fdocs.test%20https%3a%2f%2fwww.googleapis.com%2fauth%2fdrive%20https%3a%2f%2fwww.googleapis.com%2fauth%2fdrive.photos.readonly%20https%3a%2f%2fwww.googleapis.com%2fauth%2fpeopleapi.readonly\n",
            "\n",
            "Enter your authorization code:\n",
            "··········\n",
            "Mounted at /content/gdrive\n"
          ],
          "name": "stdout"
        }
      ]
    },
    {
      "cell_type": "code",
      "metadata": {
        "id": "e-JJnHy8chnR",
        "colab_type": "code",
        "outputId": "f8acbee7-17e4-485d-989f-a498e3b5f7fd",
        "colab": {
          "base_uri": "https://localhost:8080/",
          "height": 127
        }
      },
      "source": [
        "!cp dr3_500000.csv 'gdrive/My Drive'"
      ],
      "execution_count": 0,
      "outputs": [
        {
          "output_type": "stream",
          "text": [
            "dr3_500000.csv\t\t\tdr3_Oct_catalog_id.csv\n",
            "dr3_Oct_catalog_dered_iz.csv\tdr3_Oct_catalog_pgns.csv\n",
            "dr3_Oct_catalog_dered_ugr.csv\tdr3_Oct_catalog_photoz.csv\n",
            "dr3_Oct_catalog_err_iz.csv\tdr3_Oct_catalog_radec.csv\n",
            "dr3_Oct_catalog_err_ugr.csv\tgdrive\n",
            "dr3_Oct_catalog_extinction.csv\tsample_data\n"
          ],
          "name": "stdout"
        }
      ]
    }
  ]
}