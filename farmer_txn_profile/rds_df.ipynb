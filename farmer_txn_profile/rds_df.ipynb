{
  "nbformat": 4,
  "nbformat_minor": 0,
  "metadata": {
    "colab": {
      "name": "rds-df.ipynb",
      "provenance": [],
      "collapsed_sections": []
    },
    "kernelspec": {
      "name": "ir",
      "display_name": "R"
    }
  },
  "cells": [
    {
      "cell_type": "code",
      "metadata": {
        "id": "z_HPBei3Pbb3",
        "colab_type": "code",
        "colab": {}
      },
      "source": [
        "# downloading data\n",
        "system(\"wget https://raw.githubusercontent.com/AJV009/Machine_Learning_NB/master/farmer_txn_profile/farmer_txn_profile.rds\")"
      ],
      "execution_count": null,
      "outputs": []
    },
    {
      "cell_type": "code",
      "metadata": {
        "id": "DfeZMEXjTKOq",
        "colab_type": "code",
        "colab": {}
      },
      "source": [
        "# loading data\n",
        "farmer_txn_profile <- readRDS('farmer_txn_profile.rds')\n",
        "# just checking type, out of frustration\n",
        "typeof(farmer_txn_profile)"
      ],
      "execution_count": null,
      "outputs": []
    },
    {
      "cell_type": "code",
      "metadata": {
        "id": "RQgWB_UyAnk4",
        "colab_type": "code",
        "colab": {
          "base_uri": "https://localhost:8080/",
          "height": 127
        },
        "outputId": "2a678e33-06ba-4594-aaa7-5a7ec18289c1"
      },
      "source": [
        "# plyr package for converting list to dataframe\n",
        "install.packages(\"plyr\")\n",
        "# feather package for converting data.frame to feather format\n",
        "install.packages(\"feather\")"
      ],
      "execution_count": null,
      "outputs": [
        {
          "output_type": "stream",
          "text": [
            "Installing package into ‘/usr/local/lib/R/site-library’\n",
            "(as ‘lib’ is unspecified)\n",
            "\n",
            "Installing package into ‘/usr/local/lib/R/site-library’\n",
            "(as ‘lib’ is unspecified)\n",
            "\n"
          ],
          "name": "stderr"
        }
      ]
    },
    {
      "cell_type": "code",
      "metadata": {
        "id": "wj5Grt-ER7J4",
        "colab_type": "code",
        "colab": {}
      },
      "source": [
        "library(\"plyr\")\n",
        "farmer_txn_profile_df <- ldply(farmer_txn_profile, data.frame)\n",
        "# exporting\n",
        "library(\"feather\")\n",
        "write_feather(farmer_txn_profile_df, \"farmer_txn_profile.feather\")"
      ],
      "execution_count": null,
      "outputs": []
    }
  ]
}