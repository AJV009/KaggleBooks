{
 "cells": [
  {
   "cell_type": "code",
   "execution_count": 10,
   "metadata": {},
   "outputs": [],
   "source": [
    "import torch\n",
    "import torch.nn as nn\n",
    "import numpy as np\n",
    "import pandas as pd\n",
    "import matplotlib.pyplot as plt\n",
    "import seaborn as sns"
   ]
  },
  {
   "cell_type": "code",
   "execution_count": 11,
   "metadata": {},
   "outputs": [],
   "source": [
    "train_data = pd.read_csv(\"data/astro_train.csv\")\n",
    "test_data = pd.read_csv(\"data/astro_test.csv\")"
   ]
  },
  {
   "cell_type": "code",
   "execution_count": 12,
   "metadata": {},
   "outputs": [],
   "source": [
    "train_data = train_data.rename(columns={'class':'cla'})"
   ]
  },
  {
   "cell_type": "code",
   "execution_count": 13,
   "metadata": {},
   "outputs": [],
   "source": [
    "# TRAIN\n",
    "col_drop = ['id','skyVersion','run','rerun','camCol','field']\n",
    "X = train_data.drop(columns=col_drop)\n",
    "# FINAL TEST\n",
    "test_data = test_data.drop(columns=col_drop)\n",
    "# COLUMNS\n",
    "t_col = list(X.columns)\n",
    "t_col.remove('cla')\n",
    "out_c = ['cla']"
   ]
  },
  {
   "cell_type": "code",
   "execution_count": 14,
   "metadata": {},
   "outputs": [],
   "source": [
    "# Training Data set\n",
    "tensor_train_data = np.stack([X[col].values for col in t_col], 1)\n",
    "tensor_train_data = torch.tensor(tensor_train_data, dtype=torch.float)\n",
    "# Training Labels\n",
    "tensor_out_data = torch.tensor(X[out_c].values).flatten()"
   ]
  },
  {
   "cell_type": "code",
   "execution_count": 15,
   "metadata": {},
   "outputs": [
    {
     "data": {
      "text/plain": [
       "tensor([[ 15.1459,  14.9723,  18.6394,  ...,   2.6499, 236.2208,  -0.5879],\n",
       "        [ 17.3579,  17.3498,  18.5273,  ...,   2.6344, 236.2213,  -0.4632],\n",
       "        [ 20.6154,  19.7785,  25.4019,  ...,   1.6574, 236.2206,  -0.4643],\n",
       "        ...,\n",
       "        [ 24.2881,  22.8174,  25.5079,  ...,   2.0821, 210.1392,  -0.7603],\n",
       "        [ 21.7467,  24.8876,  21.7797,  ...,   1.1306, 210.1402,  -0.6697],\n",
       "        [ 20.8911,  20.8253,  23.3239,  ...,   2.0764, 210.1407,  -0.7163]])"
      ]
     },
     "execution_count": 15,
     "metadata": {},
     "output_type": "execute_result"
    }
   ],
   "source": [
    "tensor_train_data"
   ]
  },
  {
   "cell_type": "code",
   "execution_count": 19,
   "metadata": {},
   "outputs": [
    {
     "name": "stdout",
     "output_type": "stream",
     "text": [
      "torch.Size([45000, 15])\n"
     ]
    }
   ],
   "source": [
    "print(tensor_train_data.shape)"
   ]
  },
  {
   "cell_type": "code",
   "execution_count": 20,
   "metadata": {},
   "outputs": [],
   "source": [
    "# Divide to 20%\n",
    "total_r = 45000\n",
    "test_r = int(total_r * .1)\n",
    "# Spliting for validation\n",
    "tensor_train_data_train = tensor_train_data[: total_r - test_r ]\n",
    "tensor_train_data_test = tensor_train_data[total_r - test_r : total_r]\n",
    "# Spliting outputs for validation\n",
    "tensor_out_data_train = tensor_out_data[: total_r - test_r ]\n",
    "tensor_out_data_test = tensor_out_data[total_r - test_r : total_r]"
   ]
  },
  {
   "cell_type": "code",
   "execution_count": 21,
   "metadata": {},
   "outputs": [],
   "source": [
    "class Model(nn.Module):\n",
    "    def __init__(self, num_cols, output_size, layers, p=0.4):\n",
    "        super().__init__()\n",
    "        self.batch_norm_num = nn.BatchNorm1d(num_cols)\n",
    "        \n",
    "        all_layers = []\n",
    "        input_size = num_cols\n",
    "        \n",
    "        for i in layers:\n",
    "            all_layers.append(nn.Linear(input_size, i))\n",
    "            all_layers.append(nn.ReLU(inplace=True))\n",
    "            all_layers.append(nn.BatchNorm1d(i))\n",
    "            all_layers.append(nn.Dropout(p))\n",
    "            input_size = i\n",
    "            \n",
    "        all_layers.append(nn.Linear(layers[-1], output_size))\n",
    "        \n",
    "        self.layers = nn.Sequential(*all_layers)\n",
    "        \n",
    "    def forward(self, x_d):\n",
    "        x_d = self.batch_norm_num(x_d)\n",
    "        x = self.layers(x_d)\n",
    "        return x"
   ]
  },
  {
   "cell_type": "code",
   "execution_count": 24,
   "metadata": {},
   "outputs": [],
   "source": [
    "model = Model(tensor_train_data.shape[1], 3, [600,500,400,300,200,100,50], p=0.4)"
   ]
  },
  {
   "cell_type": "code",
   "execution_count": 25,
   "metadata": {},
   "outputs": [
    {
     "name": "stdout",
     "output_type": "stream",
     "text": [
      "Model(\n",
      "  (batch_norm_num): BatchNorm1d(15, eps=1e-05, momentum=0.1, affine=True, track_running_stats=True)\n",
      "  (layers): Sequential(\n",
      "    (0): Linear(in_features=15, out_features=600, bias=True)\n",
      "    (1): ReLU(inplace=True)\n",
      "    (2): BatchNorm1d(600, eps=1e-05, momentum=0.1, affine=True, track_running_stats=True)\n",
      "    (3): Dropout(p=0.4, inplace=False)\n",
      "    (4): Linear(in_features=600, out_features=500, bias=True)\n",
      "    (5): ReLU(inplace=True)\n",
      "    (6): BatchNorm1d(500, eps=1e-05, momentum=0.1, affine=True, track_running_stats=True)\n",
      "    (7): Dropout(p=0.4, inplace=False)\n",
      "    (8): Linear(in_features=500, out_features=400, bias=True)\n",
      "    (9): ReLU(inplace=True)\n",
      "    (10): BatchNorm1d(400, eps=1e-05, momentum=0.1, affine=True, track_running_stats=True)\n",
      "    (11): Dropout(p=0.4, inplace=False)\n",
      "    (12): Linear(in_features=400, out_features=300, bias=True)\n",
      "    (13): ReLU(inplace=True)\n",
      "    (14): BatchNorm1d(300, eps=1e-05, momentum=0.1, affine=True, track_running_stats=True)\n",
      "    (15): Dropout(p=0.4, inplace=False)\n",
      "    (16): Linear(in_features=300, out_features=200, bias=True)\n",
      "    (17): ReLU(inplace=True)\n",
      "    (18): BatchNorm1d(200, eps=1e-05, momentum=0.1, affine=True, track_running_stats=True)\n",
      "    (19): Dropout(p=0.4, inplace=False)\n",
      "    (20): Linear(in_features=200, out_features=100, bias=True)\n",
      "    (21): ReLU(inplace=True)\n",
      "    (22): BatchNorm1d(100, eps=1e-05, momentum=0.1, affine=True, track_running_stats=True)\n",
      "    (23): Dropout(p=0.4, inplace=False)\n",
      "    (24): Linear(in_features=100, out_features=50, bias=True)\n",
      "    (25): ReLU(inplace=True)\n",
      "    (26): BatchNorm1d(50, eps=1e-05, momentum=0.1, affine=True, track_running_stats=True)\n",
      "    (27): Dropout(p=0.4, inplace=False)\n",
      "    (28): Linear(in_features=50, out_features=3, bias=True)\n",
      "  )\n",
      ")\n"
     ]
    }
   ],
   "source": [
    "print(model)"
   ]
  },
  {
   "cell_type": "code",
   "execution_count": 26,
   "metadata": {},
   "outputs": [],
   "source": [
    "loss_function = nn.CrossEntropyLoss()\n",
    "optimizer = torch.optim.Adam(model.parameters(),lr=0.001)"
   ]
  },
  {
   "cell_type": "code",
   "execution_count": 27,
   "metadata": {},
   "outputs": [
    {
     "name": "stdout",
     "output_type": "stream",
     "text": [
      "epoch:   1 loss: 1.23747671\n",
      "epoch:  26 loss: 0.85966456\n",
      "epoch:  51 loss: 0.81120408\n",
      "epoch:  76 loss: 0.78252912\n",
      "epoch: 101 loss: 0.77218449\n",
      "epoch: 126 loss: 0.76064229\n",
      "epoch: 151 loss: 0.75218183\n",
      "epoch: 176 loss: 0.74471015\n",
      "epoch: 201 loss: 0.73516148\n",
      "epoch: 226 loss: 0.73277003\n",
      "epoch: 251 loss: 0.72693086\n",
      "epoch: 276 loss: 0.72299892\n",
      "epoch: 301 loss: 0.71721399\n",
      "epoch: 326 loss: 0.71115386\n",
      "epoch: 351 loss: 0.70821762\n",
      "epoch: 376 loss: 0.70273292\n",
      "epoch: 401 loss: 0.69998914\n",
      "epoch: 426 loss: 0.69725597\n",
      "epoch: 451 loss: 0.69446003\n",
      "epoch: 476 loss: 0.68801492\n",
      "epoch: 501 loss: 0.68481094\n",
      "epoch: 526 loss: 0.68074757\n",
      "epoch: 551 loss: 0.67710358\n",
      "epoch: 576 loss: 0.67410433\n",
      "epoch: 601 loss: 0.66832364\n",
      "epoch: 626 loss: 0.66379398\n",
      "epoch: 651 loss: 0.65793830\n",
      "epoch: 676 loss: 0.65557426\n",
      "epoch: 701 loss: 0.65231174\n",
      "epoch: 726 loss: 0.64371377\n",
      "epoch: 751 loss: 0.63757324\n",
      "epoch: 776 loss: 0.63889974\n",
      "epoch: 801 loss: 0.63239866\n",
      "epoch: 826 loss: 0.63111418\n",
      "epoch: 851 loss: 0.62885261\n",
      "epoch: 876 loss: 0.62410921\n",
      "epoch: 901 loss: 0.61748087\n",
      "epoch: 926 loss: 0.61286956\n",
      "epoch: 951 loss: 0.60999084\n",
      "epoch: 976 loss: 0.60761017\n",
      "epoch: 1001 loss: 0.60143298\n",
      "epoch: 1026 loss: 0.60104412\n",
      "epoch: 1051 loss: 0.59733504\n",
      "epoch: 1076 loss: 0.59060806\n",
      "epoch: 1101 loss: 0.58876324\n",
      "epoch: 1126 loss: 0.58571613\n",
      "epoch: 1151 loss: 0.57919747\n",
      "epoch: 1176 loss: 0.58084536\n",
      "epoch: 1201 loss: 0.57438838\n",
      "epoch: 1226 loss: 0.56956393\n",
      "epoch: 1251 loss: 0.56610149\n",
      "epoch: 1276 loss: 0.56456864\n",
      "epoch: 1301 loss: 0.56340706\n",
      "epoch: 1326 loss: 0.56087691\n",
      "epoch: 1351 loss: 0.55669481\n",
      "epoch: 1376 loss: 0.55394113\n",
      "epoch: 1401 loss: 0.54718333\n",
      "epoch: 1426 loss: 0.54825205\n",
      "epoch: 1451 loss: 0.54357076\n",
      "epoch: 1476 loss: 0.54170161\n",
      "epoch: 1501 loss: 0.53529793\n",
      "epoch: 1526 loss: 0.53716302\n",
      "epoch: 1551 loss: 0.53862804\n",
      "epoch: 1576 loss: 0.53267622\n",
      "epoch: 1601 loss: 0.52835584\n",
      "epoch: 1626 loss: 0.53039682\n",
      "epoch: 1651 loss: 0.52869165\n",
      "epoch: 1676 loss: 0.52830607\n",
      "epoch: 1701 loss: 0.52262831\n",
      "epoch: 1726 loss: 0.52193832\n",
      "epoch: 1751 loss: 0.51600558\n",
      "epoch: 1776 loss: 0.51818657\n",
      "epoch: 1801 loss: 0.51878041\n",
      "epoch: 1826 loss: 0.51252520\n",
      "epoch: 1851 loss: 0.51187545\n",
      "epoch: 1876 loss: 0.50593919\n",
      "epoch: 1901 loss: 0.50805992\n",
      "epoch: 1926 loss: 0.51020384\n",
      "epoch: 1951 loss: 0.50571865\n",
      "epoch: 1976 loss: 0.50923049\n",
      "epoch: 2000 loss: 0.50174707\n"
     ]
    }
   ],
   "source": [
    "epochs = \n",
    "aggregated_losses = []\n",
    "\n",
    "for i in range(epochs):\n",
    "    i += 1\n",
    "    y_pred = model(tensor_train_data_train)\n",
    "    single_loss = loss_function(y_pred, tensor_out_data_train)\n",
    "    aggregated_losses.append(single_loss)\n",
    "    \n",
    "    if i%25 == 1:\n",
    "        print(f'epoch: {i:3} loss: {single_loss.item():10.8f}')\n",
    "        \n",
    "    optimizer.zero_grad()\n",
    "    single_loss.backward()\n",
    "    optimizer.step()\n",
    "print(f'epoch: {i:3} loss: {single_loss.item():10.8f}')"
   ]
  },
  {
   "cell_type": "code",
   "execution_count": 28,
   "metadata": {},
   "outputs": [
    {
     "data": {
      "image/png": "[encoded data removed]",
      "text/plain": [
       "<Figure size 1440x720 with 1 Axes>"
      ]
     },
     "metadata": {
      "needs_background": "light"
     },
     "output_type": "display_data"
    }
   ],
   "source": [
    "plt.figure(figsize=(20,10))\n",
    "plt.plot(range(epochs), aggregated_losses)\n",
    "plt.ylabel('Loss')\n",
    "plt.xlabel('epoch');"
   ]
  },
  {
   "cell_type": "code",
   "execution_count": 82,
   "metadata": {},
   "outputs": [
    {
     "name": "stdout",
     "output_type": "stream",
     "text": [
      "loss: 1.66123605\n",
      "tensor([[ 3.5517, -3.0609, -0.2216],\n",
      "        [ 3.6966, -3.5663,  0.1188],\n",
      "        [ 0.2569, -0.4788,  0.5258],\n",
      "        ...,\n",
      "        [ 1.0412, -0.8910,  0.0519],\n",
      "        [-3.0985,  3.1607, -0.0970],\n",
      "        [ 0.7477, -0.6301,  0.7069]])\n"
     ]
    }
   ],
   "source": [
    "with torch.no_grad():\n",
    "    y_val = model(tensor_train_data_test)\n",
    "    loss = loss_function(y_val, tensor_out_data_test)\n",
    "print(f'loss: {loss:.8f}')\n",
    "print(y_val)"
   ]
  },
  {
   "cell_type": "code",
   "execution_count": 83,
   "metadata": {},
   "outputs": [
    {
     "name": "stdout",
     "output_type": "stream",
     "text": [
      "tensor([0, 0, 2,  ..., 0, 1, 0])\n"
     ]
    }
   ],
   "source": [
    "y_val = np.argmax(y_val, axis=1)\n",
    "print(y_val)"
   ]
  },
  {
   "cell_type": "code",
   "execution_count": 84,
   "metadata": {},
   "outputs": [
    {
     "name": "stdout",
     "output_type": "stream",
     "text": [
      "[[1135  228  391]\n",
      " [ 364  609  560]\n",
      " [ 466  249  498]]\n",
      "              precision    recall  f1-score   support\n",
      "\n",
      "           0       0.58      0.65      0.61      1754\n",
      "           1       0.56      0.40      0.47      1533\n",
      "           2       0.34      0.41      0.37      1213\n",
      "\n",
      "    accuracy                           0.50      4500\n",
      "   macro avg       0.49      0.48      0.48      4500\n",
      "weighted avg       0.51      0.50      0.50      4500\n",
      "\n",
      "0.49822222222222223\n"
     ]
    }
   ],
   "source": [
    "from sklearn.metrics import classification_report, confusion_matrix, accuracy_score\n",
    "\n",
    "print(confusion_matrix(tensor_out_data_test,y_val))\n",
    "print(classification_report(tensor_out_data_test,y_val))\n",
    "print(accuracy_score(tensor_out_data_test, y_val))"
   ]
  },
  {
   "cell_type": "code",
   "execution_count": 85,
   "metadata": {},
   "outputs": [
    {
     "name": "stdout",
     "output_type": "stream",
     "text": [
      "tensor([0, 0, 0,  ..., 0, 2, 2])\n"
     ]
    }
   ],
   "source": [
    "print(tensor_out_data_test)"
   ]
  },
  {
   "cell_type": "code",
   "execution_count": null,
   "metadata": {},
   "outputs": [],
   "source": []
  },
  {
   "cell_type": "code",
   "execution_count": null,
   "metadata": {},
   "outputs": [],
   "source": []
  }
 ],
 "metadata": {
  "kernelspec": {
   "display_name": "Python 3",
   "language": "python",
   "name": "python3"
  },
  "language_info": {
   "codemirror_mode": {
    "name": "ipython",
    "version": 3
   },
   "file_extension": ".py",
   "mimetype": "text/x-python",
   "name": "python",
   "nbconvert_exporter": "python",
   "pygments_lexer": "ipython3",
   "version": "3.6.10"
  }
 },
 "nbformat": 4,
 "nbformat_minor": 4
}
