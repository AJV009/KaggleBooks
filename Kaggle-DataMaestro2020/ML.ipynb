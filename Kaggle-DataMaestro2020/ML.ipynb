{
 "cells": [
  {
   "cell_type": "code",
   "execution_count": 1,
   "metadata": {},
   "outputs": [],
   "source": [
    "import pandas as pd, numpy as np"
   ]
  },
  {
   "cell_type": "code",
   "execution_count": 2,
   "metadata": {},
   "outputs": [],
   "source": [
    "test_data = pd.read_csv(\"data/astro_test.csv\")\n",
    "train_data = (pd.read_csv(\"data/astro_train.csv\")).rename(columns={'class':'cla'}).head(44999)\n",
    "X = train_data.drop(columns=['cla','id']).values\n",
    "y = train_data['cla'].values\n",
    "ctest = test_data.drop(columns='id').values"
   ]
  },
  {
   "cell_type": "code",
   "execution_count": null,
   "metadata": {},
   "outputs": [],
   "source": [
    "from sklearn.ensemble import RandomForestClassifier\n",
    "rfc = RandomForestClassifier()\n",
    "rfc.set_params(criterion = 'entropy', max_depth = 1000, min_samples_leaf = 7, min_samples_split = 12, n_estimators = 100)\n",
    "rfc.fit(X,y)"
   ]
  },
  {
   "cell_type": "code",
   "execution_count": 3,
   "metadata": {},
   "outputs": [
    {
     "data": {
      "text/plain": [
       "XGBClassifier(base_score=0.5, booster='gbtree', colsample_bylevel=1,\n",
       "              colsample_bynode=1, colsample_bytree=0.4, gamma=10,\n",
       "              learning_rate=0.01, max_delta_step=0, max_depth=13,\n",
       "              min_child_weight=1, missing=None, n_estimators=4000, n_jobs=1,\n",
       "              nthread=None, objective='multi:softprob', random_state=0,\n",
       "              reg_alpha=0.3, reg_lambda=1, scale_pos_weight=1, seed=None,\n",
       "              silent=False, subsample=0.8, verbosity=1)"
      ]
     },
     "execution_count": 3,
     "metadata": {},
     "output_type": "execute_result"
    }
   ],
   "source": [
    "from xgboost import XGBClassifier\n",
    "xgb = XGBClassifier(silent=False,\n",
    "                    scale_pos_weight=1,\n",
    "                    learning_rate=0.01,\n",
    "                    colsample_bytree=0.4,\n",
    "                    subsample=0.8,\n",
    "                    n_estimators=4000,\n",
    "                    reg_alpha=0.3,\n",
    "                    max_depth=13,\n",
    "                    gamma=10)\n",
    "xgb.fit(X,y)"
   ]
  },
  {
   "cell_type": "code",
   "execution_count": 5,
   "metadata": {},
   "outputs": [],
   "source": [
    "sub = xgb.predict(ctest)\n",
    "\n",
    "output = pd.DataFrame({'id': test_data.id,\n",
    "                       'class': sub})\n",
    "output.to_csv('RF_submission.csv', index=False)"
   ]
  },
  {
   "cell_type": "code",
   "execution_count": null,
   "metadata": {},
   "outputs": [],
   "source": [
    "# Random Forest\n",
    "# XGBoost\n",
    "# Dropped constant values! No complex pre-processing"
   ]
  }
 ],
 "metadata": {
  "kernelspec": {
   "display_name": "Python 3",
   "language": "python",
   "name": "python3"
  },
  "language_info": {
   "codemirror_mode": {
    "name": "ipython",
    "version": 3
   },
   "file_extension": ".py",
   "mimetype": "text/x-python",
   "name": "python",
   "nbconvert_exporter": "python",
   "pygments_lexer": "ipython3",
   "version": "3.6.10"
  }
 },
 "nbformat": 4,
 "nbformat_minor": 4
}
