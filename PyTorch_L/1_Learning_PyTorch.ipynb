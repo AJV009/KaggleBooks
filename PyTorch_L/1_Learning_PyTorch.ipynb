{
  "nbformat": 4,
  "nbformat_minor": 0,
  "metadata": {
    "colab": {
      "name": "1.Learning_PyTorch.ipynb",
      "provenance": [],
      "collapsed_sections": []
    },
    "kernelspec": {
      "name": "python3",
      "display_name": "Python 3"
    },
    "accelerator": "GPU"
  },
  "cells": [
    {
      "cell_type": "markdown",
      "metadata": {
        "id": "vpWmFqJONRR2",
        "colab_type": "text"
      },
      "source": [
        "\n",
        "### A replacement for NumPy to use the power of GPUs\n",
        "### A deep learning research platform that provides maximum flexibility and speed"
      ]
    },
    {
      "cell_type": "code",
      "metadata": {
        "id": "mclPYfEFMwXq",
        "colab_type": "code",
        "colab": {}
      },
      "source": [
        "import torch"
      ],
      "execution_count": 0,
      "outputs": []
    },
    {
      "cell_type": "markdown",
      "metadata": {
        "id": "qN5qjtGvNgfa",
        "colab_type": "text"
      },
      "source": [
        "# Tensors\n",
        "Tensors are similar to NumPy’s ndarrays, with the addition being that Tensors can also be used on a GPU to accelerate computing."
      ]
    },
    {
      "cell_type": "code",
      "metadata": {
        "id": "71AlZLZDM7TG",
        "colab_type": "code",
        "colab": {
          "base_uri": "https://localhost:8080/",
          "height": 109
        },
        "outputId": "82eccd15-1133-4f33-f67d-cf2bd0dbd981"
      },
      "source": [
        "x = torch.empty(5,3)\n",
        "x"
      ],
      "execution_count": 4,
      "outputs": [
        {
          "output_type": "execute_result",
          "data": {
            "text/plain": [
              "tensor([[3.9117e-35, 0.0000e+00, 1.5975e-43],\n",
              "        [1.3873e-43, 1.4574e-43, 6.4460e-44],\n",
              "        [1.4153e-43, 1.5274e-43, 1.5695e-43],\n",
              "        [1.6255e-43, 1.6956e-43, 0.0000e+00],\n",
              "        [0.0000e+00, 0.0000e+00, 0.0000e+00]])"
            ]
          },
          "metadata": {
            "tags": []
          },
          "execution_count": 4
        }
      ]
    },
    {
      "cell_type": "markdown",
      "metadata": {
        "id": "hPViX3oJNo7h",
        "colab_type": "text"
      },
      "source": [
        "#### Note:\n",
        "An uninitialized matrix is declared, but does not contain definite known values before it is used. When an uninitialized matrix is created, whatever values were in the allocated memory at the time will appear as the initial values."
      ]
    },
    {
      "cell_type": "code",
      "metadata": {
        "id": "h7N6BaHuNCqT",
        "colab_type": "code",
        "colab": {
          "base_uri": "https://localhost:8080/",
          "height": 109
        },
        "outputId": "3522a614-4e84-4444-ec4f-862362e00843"
      },
      "source": [
        "x = torch.rand(5,3)\n",
        "x"
      ],
      "execution_count": 5,
      "outputs": [
        {
          "output_type": "execute_result",
          "data": {
            "text/plain": [
              "tensor([[0.4093, 0.0829, 0.8415],\n",
              "        [0.5043, 0.7150, 0.2817],\n",
              "        [0.4637, 0.1256, 0.0336],\n",
              "        [0.2007, 0.3445, 0.6858],\n",
              "        [0.6011, 0.0538, 0.2873]])"
            ]
          },
          "metadata": {
            "tags": []
          },
          "execution_count": 5
        }
      ]
    },
    {
      "cell_type": "markdown",
      "metadata": {
        "id": "31ahArWcOhVe",
        "colab_type": "text"
      },
      "source": [
        "5x3 matrix with zeros of type long"
      ]
    },
    {
      "cell_type": "code",
      "metadata": {
        "id": "_E7l7I9wOOz3",
        "colab_type": "code",
        "colab": {
          "base_uri": "https://localhost:8080/",
          "height": 109
        },
        "outputId": "c606c00e-f778-4d97-8388-eaed483e5ee9"
      },
      "source": [
        "x = torch.zeros(5,3, dtype=torch.long)\n",
        "x"
      ],
      "execution_count": 6,
      "outputs": [
        {
          "output_type": "execute_result",
          "data": {
            "text/plain": [
              "tensor([[0, 0, 0],\n",
              "        [0, 0, 0],\n",
              "        [0, 0, 0],\n",
              "        [0, 0, 0],\n",
              "        [0, 0, 0]])"
            ]
          },
          "metadata": {
            "tags": []
          },
          "execution_count": 6
        }
      ]
    },
    {
      "cell_type": "markdown",
      "metadata": {
        "id": "vALuU1K3PFMP",
        "colab_type": "text"
      },
      "source": [
        "data to tensor"
      ]
    },
    {
      "cell_type": "code",
      "metadata": {
        "id": "FT3lSGeGOfqV",
        "colab_type": "code",
        "colab": {
          "base_uri": "https://localhost:8080/",
          "height": 35
        },
        "outputId": "d6e5b41f-b083-4f34-c114-c29ed9d3092b"
      },
      "source": [
        "x = torch.tensor([10,20,304,1,9.2,3])\n",
        "x"
      ],
      "execution_count": 10,
      "outputs": [
        {
          "output_type": "execute_result",
          "data": {
            "text/plain": [
              "tensor([ 10.0000,  20.0000, 304.0000,   1.0000,   9.2000,   3.0000])"
            ]
          },
          "metadata": {
            "tags": []
          },
          "execution_count": 10
        }
      ]
    },
    {
      "cell_type": "markdown",
      "metadata": {
        "id": "rLkw1tM-Rtrf",
        "colab_type": "text"
      },
      "source": [
        "create a tensor based on an existing tensor. These methods will reuse properties of the input tensor, e.g. dtype, unless new values are provided by user"
      ]
    },
    {
      "cell_type": "code",
      "metadata": {
        "id": "KqnMojfTPQu5",
        "colab_type": "code",
        "colab": {
          "base_uri": "https://localhost:8080/",
          "height": 109
        },
        "outputId": "97953f46-1857-4516-a1a2-1c1ac7e6014b"
      },
      "source": [
        "x = x.new_ones(5,3,dtype=torch.double)\n",
        "x"
      ],
      "execution_count": 11,
      "outputs": [
        {
          "output_type": "execute_result",
          "data": {
            "text/plain": [
              "tensor([[1., 1., 1.],\n",
              "        [1., 1., 1.],\n",
              "        [1., 1., 1.],\n",
              "        [1., 1., 1.],\n",
              "        [1., 1., 1.]], dtype=torch.float64)"
            ]
          },
          "metadata": {
            "tags": []
          },
          "execution_count": 11
        }
      ]
    },
    {
      "cell_type": "code",
      "metadata": {
        "id": "Blo46qT3PogU",
        "colab_type": "code",
        "colab": {
          "base_uri": "https://localhost:8080/",
          "height": 109
        },
        "outputId": "ed2b3aa2-9ee2-4e28-a428-d9e9f45168b7"
      },
      "source": [
        "x = torch.randn_like(x, dtype=torch.float)\n",
        "x"
      ],
      "execution_count": 13,
      "outputs": [
        {
          "output_type": "execute_result",
          "data": {
            "text/plain": [
              "tensor([[ 0.4511, -3.0853, -0.5623],\n",
              "        [-2.4148, -0.6045, -1.0318],\n",
              "        [-1.0060, -0.1131,  1.9964],\n",
              "        [-1.3559,  1.3757, -0.1964],\n",
              "        [ 0.3225,  0.9931,  0.5166]])"
            ]
          },
          "metadata": {
            "tags": []
          },
          "execution_count": 13
        }
      ]
    },
    {
      "cell_type": "markdown",
      "metadata": {
        "id": "Lh433dlhR641",
        "colab_type": "text"
      },
      "source": [
        "### Operations\n",
        "There are multiple syntaxes for operations. In the following example, we will take a look at the addition operation."
      ]
    },
    {
      "cell_type": "code",
      "metadata": {
        "id": "HqtgD_tPP3QZ",
        "colab_type": "code",
        "colab": {
          "base_uri": "https://localhost:8080/",
          "height": 109
        },
        "outputId": "8323825c-1296-457b-a600-f52097e54821"
      },
      "source": [
        "y = torch.rand(5, 3)\n",
        "print(x + y)"
      ],
      "execution_count": 14,
      "outputs": [
        {
          "output_type": "stream",
          "text": [
            "tensor([[ 0.9618, -2.0940, -0.3231],\n",
            "        [-1.6587, -0.0884, -0.1470],\n",
            "        [-0.6494,  0.6263,  2.0096],\n",
            "        [-0.7905,  1.8605,  0.7237],\n",
            "        [ 1.2872,  1.2346,  0.6912]])\n"
          ],
          "name": "stdout"
        }
      ]
    },
    {
      "cell_type": "code",
      "metadata": {
        "id": "Bt4lhWefTVWr",
        "colab_type": "code",
        "colab": {
          "base_uri": "https://localhost:8080/",
          "height": 109
        },
        "outputId": "627f7df8-1ced-49a8-9cea-7e98668d3920"
      },
      "source": [
        "print(torch.add(x,y))"
      ],
      "execution_count": 16,
      "outputs": [
        {
          "output_type": "stream",
          "text": [
            "tensor([[ 0.9618, -2.0940, -0.3231],\n",
            "        [-1.6587, -0.0884, -0.1470],\n",
            "        [-0.6494,  0.6263,  2.0096],\n",
            "        [-0.7905,  1.8605,  0.7237],\n",
            "        [ 1.2872,  1.2346,  0.6912]])\n"
          ],
          "name": "stdout"
        }
      ]
    },
    {
      "cell_type": "markdown",
      "metadata": {
        "id": "eaKOa3X8cfqa",
        "colab_type": "text"
      },
      "source": [
        "output tensor as argument"
      ]
    },
    {
      "cell_type": "code",
      "metadata": {
        "id": "wImdIiqUVaM6",
        "colab_type": "code",
        "colab": {
          "base_uri": "https://localhost:8080/",
          "height": 109
        },
        "outputId": "5ea83a87-b884-48ae-c272-5e0e07344f77"
      },
      "source": [
        "res = torch.empty(5, 3)\n",
        "torch.add(x,y, out=res)\n",
        "res"
      ],
      "execution_count": 18,
      "outputs": [
        {
          "output_type": "execute_result",
          "data": {
            "text/plain": [
              "tensor([[ 0.9618, -2.0940, -0.3231],\n",
              "        [-1.6587, -0.0884, -0.1470],\n",
              "        [-0.6494,  0.6263,  2.0096],\n",
              "        [-0.7905,  1.8605,  0.7237],\n",
              "        [ 1.2872,  1.2346,  0.6912]])"
            ]
          },
          "metadata": {
            "tags": []
          },
          "execution_count": 18
        }
      ]
    },
    {
      "cell_type": "markdown",
      "metadata": {
        "id": "0Q7Og3Qij5Mn",
        "colab_type": "text"
      },
      "source": [
        "add in place"
      ]
    },
    {
      "cell_type": "code",
      "metadata": {
        "id": "76YP2jxTiafX",
        "colab_type": "code",
        "colab": {
          "base_uri": "https://localhost:8080/",
          "height": 109
        },
        "outputId": "6968f656-1427-47d9-ef21-2925fff7ec1f"
      },
      "source": [
        "y.add_(x)\n",
        "y"
      ],
      "execution_count": 19,
      "outputs": [
        {
          "output_type": "execute_result",
          "data": {
            "text/plain": [
              "tensor([[ 0.9618, -2.0940, -0.3231],\n",
              "        [-1.6587, -0.0884, -0.1470],\n",
              "        [-0.6494,  0.6263,  2.0096],\n",
              "        [-0.7905,  1.8605,  0.7237],\n",
              "        [ 1.2872,  1.2346,  0.6912]])"
            ]
          },
          "metadata": {
            "tags": []
          },
          "execution_count": 19
        }
      ]
    },
    {
      "cell_type": "markdown",
      "metadata": {
        "id": "ntQMw6cPkL5d",
        "colab_type": "text"
      },
      "source": [
        "Any operation that mutates a tensor in-place is post-fixed with an _. For example: x.copy_(y), x.t_(), will change x."
      ]
    },
    {
      "cell_type": "code",
      "metadata": {
        "id": "4md-q8ACkBkx",
        "colab_type": "code",
        "colab": {
          "base_uri": "https://localhost:8080/",
          "height": 35
        },
        "outputId": "a22f6db1-b010-4b9a-9113-b80cdf7b968d"
      },
      "source": [
        "print(x[:, 1])"
      ],
      "execution_count": 21,
      "outputs": [
        {
          "output_type": "stream",
          "text": [
            "tensor([-3.0853, -0.6045, -0.1131,  1.3757,  0.9931])\n"
          ],
          "name": "stdout"
        }
      ]
    },
    {
      "cell_type": "markdown",
      "metadata": {
        "id": "6BMiAoTjkUh9",
        "colab_type": "text"
      },
      "source": [
        "Resizing: If you want to resize/reshape tensor, you can use torch.view:"
      ]
    },
    {
      "cell_type": "code",
      "metadata": {
        "id": "8h3f8P11kPT4",
        "colab_type": "code",
        "colab": {
          "base_uri": "https://localhost:8080/",
          "height": 35
        },
        "outputId": "f2e99f23-9dee-4cd8-ee5d-53c76556c336"
      },
      "source": [
        "x = torch.randn(4, 4)\n",
        "y = x.view(16)\n",
        "z = x.view(-1, 8)  # the size -1 is inferred from other dimensions\n",
        "print(x.size(), y.size(), z.size())"
      ],
      "execution_count": 22,
      "outputs": [
        {
          "output_type": "stream",
          "text": [
            "torch.Size([4, 4]) torch.Size([16]) torch.Size([2, 8])\n"
          ],
          "name": "stdout"
        }
      ]
    },
    {
      "cell_type": "markdown",
      "metadata": {
        "id": "mAuHA3UHkbpL",
        "colab_type": "text"
      },
      "source": [
        "If you have a one element tensor, use .item() to get the value as a Python number"
      ]
    },
    {
      "cell_type": "code",
      "metadata": {
        "id": "lvWBT-fokXk4",
        "colab_type": "code",
        "colab": {
          "base_uri": "https://localhost:8080/",
          "height": 54
        },
        "outputId": "9d98e977-5401-4ac8-ef36-44bac06bc223"
      },
      "source": [
        "x = torch.randn(1)\n",
        "print(x)\n",
        "print(x.item())"
      ],
      "execution_count": 23,
      "outputs": [
        {
          "output_type": "stream",
          "text": [
            "tensor([1.5792])\n",
            "1.5792300701141357\n"
          ],
          "name": "stdout"
        }
      ]
    },
    {
      "cell_type": "markdown",
      "metadata": {
        "id": "voNZkSMhlBX9",
        "colab_type": "text"
      },
      "source": [
        "https://pytorch.org/docs/stable/torch.html"
      ]
    },
    {
      "cell_type": "markdown",
      "metadata": {
        "id": "DHCqFhCFlGoG",
        "colab_type": "text"
      },
      "source": [
        "## NumPy Bridge\n",
        "\n",
        "Converting a Torch Tensor to a NumPy array and vice versa is a breeze.\n",
        "The Torch Tensor and NumPy array will share their underlying memory locations (if the Torch Tensor is on CPU), and changing one will change the other."
      ]
    },
    {
      "cell_type": "code",
      "metadata": {
        "id": "jHp5MBVrkePP",
        "colab_type": "code",
        "colab": {
          "base_uri": "https://localhost:8080/",
          "height": 35
        },
        "outputId": "a7e4fc2a-7f38-4573-d10e-73e82a45ade9"
      },
      "source": [
        "a = torch.ones(5)\n",
        "a"
      ],
      "execution_count": 3,
      "outputs": [
        {
          "output_type": "execute_result",
          "data": {
            "text/plain": [
              "tensor([1., 1., 1., 1., 1.])"
            ]
          },
          "metadata": {
            "tags": []
          },
          "execution_count": 3
        }
      ]
    },
    {
      "cell_type": "code",
      "metadata": {
        "id": "278sRRY-k5q2",
        "colab_type": "code",
        "colab": {
          "base_uri": "https://localhost:8080/",
          "height": 35
        },
        "outputId": "ae189ebe-d240-4118-823a-2d824040c629"
      },
      "source": [
        "b = a.numpy()\n",
        "b"
      ],
      "execution_count": 4,
      "outputs": [
        {
          "output_type": "execute_result",
          "data": {
            "text/plain": [
              "array([1., 1., 1., 1., 1.], dtype=float32)"
            ]
          },
          "metadata": {
            "tags": []
          },
          "execution_count": 4
        }
      ]
    },
    {
      "cell_type": "markdown",
      "metadata": {
        "id": "lCNZT82LlNIF",
        "colab_type": "text"
      },
      "source": [
        "### numpy to tensor"
      ]
    },
    {
      "cell_type": "code",
      "metadata": {
        "id": "F_zVtlAqlI3U",
        "colab_type": "code",
        "colab": {
          "base_uri": "https://localhost:8080/",
          "height": 35
        },
        "outputId": "51b81407-f6c3-4666-b6de-d9a7352ae494"
      },
      "source": [
        "import numpy as np\n",
        "a = np.ones(5)\n",
        "b = torch.from_numpy(a)\n",
        "b"
      ],
      "execution_count": 3,
      "outputs": [
        {
          "output_type": "execute_result",
          "data": {
            "text/plain": [
              "tensor([1., 1., 1., 1., 1.], dtype=torch.float64)"
            ]
          },
          "metadata": {
            "tags": []
          },
          "execution_count": 3
        }
      ]
    },
    {
      "cell_type": "code",
      "metadata": {
        "id": "J8VAXymolBAE",
        "colab_type": "code",
        "colab": {
          "base_uri": "https://localhost:8080/",
          "height": 72
        },
        "outputId": "f979aedd-5b0b-4826-da6e-d948a3352356"
      },
      "source": [
        "if torch.cuda.is_available():\n",
        "  device = torch.device(\"cuda\")\n",
        "  y = torch.ones_like(b, device=device)\n",
        "  b = b.to(device)\n",
        "  print(y)\n",
        "  print(b)\n",
        "  z = y+b\n",
        "  print(z.to(\"cpu\", torch.double))"
      ],
      "execution_count": 4,
      "outputs": [
        {
          "output_type": "stream",
          "text": [
            "tensor([1., 1., 1., 1., 1.], device='cuda:0', dtype=torch.float64)\n",
            "tensor([1., 1., 1., 1., 1.], device='cuda:0', dtype=torch.float64)\n",
            "tensor([2., 2., 2., 2., 2.], dtype=torch.float64)\n"
          ],
          "name": "stdout"
        }
      ]
    },
    {
      "cell_type": "markdown",
      "metadata": {
        "id": "N_8h173NnreB",
        "colab_type": "text"
      },
      "source": [
        "# check out the next notebook"
      ]
    }
  ]
}